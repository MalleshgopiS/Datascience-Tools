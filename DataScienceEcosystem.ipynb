{
 "cells": [
  {
   "cell_type": "markdown",
   "id": "6a80c190-b37b-4f96-b49a-3e5aa33c3d74",
   "metadata": {},
   "source": [
    "## **Data Science Tools and Ecosystem**\n"
   ]
  },
  {
   "cell_type": "markdown",
   "id": "d3ac590d-cab9-4e79-96f1-bc53f46cdbf9",
   "metadata": {},
   "source": [
    "In this notebook, Data Science Tools and Ecosystem are summarized."
   ]
  },
  {
   "cell_type": "markdown",
   "id": "3e68a6d0-9b46-49fa-ad09-5f6acec6d4aa",
   "metadata": {},
   "source": [
    "**Objective:**\n",
    "\n",
    "* R\n",
    "* Python\n",
    "* java\n",
    "\n",
    "And some of commly used open source libraries."
   ]
  },
  {
   "cell_type": "markdown",
   "id": "e426b897-4c7b-44cb-a34f-e1bb24634f34",
   "metadata": {},
   "source": [
    "Some of the popular languages that Data Scientists use are:\n",
    "\n",
    "1)R Programming\n",
    "\n",
    "2)Python\n",
    "\n",
    "3)Java\n"
   ]
  },
  {
   "cell_type": "markdown",
   "id": "8a86154d-d0ef-4887-bd59-6ffec0046331",
   "metadata": {},
   "source": [
    "Some of the commonly used libraries used by Data Scientists include:\n",
    "\n",
    "1)Numpy \n",
    "\n",
    "2)Pandas\n",
    "\n",
    "3)Tensorflow"
   ]
  },
  {
   "cell_type": "markdown",
   "id": "2fa4669a-4026-4176-9152-8ff4b6d7d2b9",
   "metadata": {},
   "source": [
    "|Data Science Tools|\n",
    "|------------------|\n",
    "|Jupyter Note Book |\n",
    "|R Studio|\n",
    "|Visual Studio Code|"
   ]
  },
  {
   "cell_type": "markdown",
   "id": "d712deff-b0e3-4e06-8114-8b33ae2f00f3",
   "metadata": {},
   "source": [
    "Below are a few examples of evaluating arithmetic expressions in Python"
   ]
  },
  {
   "cell_type": "code",
   "execution_count": 9,
   "id": "f5ca6bd9-1466-454c-971c-11c8f3dc47b4",
   "metadata": {},
   "outputs": [
    {
     "data": {
      "text/plain": [
       "17.0"
      ]
     },
     "execution_count": 9,
     "metadata": {},
     "output_type": "execute_result"
    }
   ],
   "source": [
    "(3*4)+5."
   ]
  },
  {
   "cell_type": "markdown",
   "id": "731b8bd6-b7b0-4a86-ba37-dda758ba1119",
   "metadata": {},
   "source": [
    "Convert minutes in to hours"
   ]
  },
  {
   "cell_type": "code",
   "execution_count": 10,
   "id": "74a6c2b8-564f-4136-adfc-87405fb93a83",
   "metadata": {},
   "outputs": [
    {
     "data": {
      "text/plain": [
       "0.1388888888888889"
      ]
     },
     "execution_count": 10,
     "metadata": {},
     "output_type": "execute_result"
    }
   ],
   "source": [
    "200/(24*60)"
   ]
  },
  {
   "cell_type": "markdown",
   "id": "bcc7264b-cd42-4572-8122-4705b2a82963",
   "metadata": {},
   "source": [
    "## Author:\n",
    "\n",
    "Malleshgopi S\n"
   ]
  },
  {
   "cell_type": "code",
   "execution_count": null,
   "id": "cb37abe8-f3e9-4822-a623-7a2b29c03ad6",
   "metadata": {},
   "outputs": [],
   "source": []
  }
 ],
 "metadata": {
  "kernelspec": {
   "display_name": "Python 3 (ipykernel)",
   "language": "python",
   "name": "python3"
  },
  "language_info": {
   "codemirror_mode": {
    "name": "ipython",
    "version": 3
   },
   "file_extension": ".py",
   "mimetype": "text/x-python",
   "name": "python",
   "nbconvert_exporter": "python",
   "pygments_lexer": "ipython3",
   "version": "3.11.7"
  }
 },
 "nbformat": 4,
 "nbformat_minor": 5
}
